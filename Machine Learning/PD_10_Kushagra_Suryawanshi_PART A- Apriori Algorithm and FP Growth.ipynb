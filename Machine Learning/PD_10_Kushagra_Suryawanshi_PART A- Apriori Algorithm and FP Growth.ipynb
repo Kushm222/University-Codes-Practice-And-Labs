{
 "cells": [
  {
   "cell_type": "markdown",
   "metadata": {},
   "source": [
    "# APRIORI ALGORITHM"
   ]
  },
  {
   "cell_type": "code",
   "execution_count": 2,
   "metadata": {},
   "outputs": [],
   "source": [
    "#PD_10_Kushagra Suryawanshi\n",
    "#!pip install apyori"
   ]
  },
  {
   "cell_type": "code",
   "execution_count": 3,
   "metadata": {},
   "outputs": [],
   "source": [
    "import numpy as np\n",
    "import pandas as pd\n",
    "from apyori import apriori "
   ]
  },
  {
   "cell_type": "code",
   "execution_count": 4,
   "metadata": {},
   "outputs": [],
   "source": [
    "#loading the dataset\n",
    "store_data = pd.read_csv('data1.csv', header = None)"
   ]
  },
  {
   "cell_type": "code",
   "execution_count": 5,
   "metadata": {},
   "outputs": [
    {
     "data": {
      "text/html": [
       "<div>\n",
       "<style scoped>\n",
       "    .dataframe tbody tr th:only-of-type {\n",
       "        vertical-align: middle;\n",
       "    }\n",
       "\n",
       "    .dataframe tbody tr th {\n",
       "        vertical-align: top;\n",
       "    }\n",
       "\n",
       "    .dataframe thead th {\n",
       "        text-align: right;\n",
       "    }\n",
       "</style>\n",
       "<table border=\"1\" class=\"dataframe\">\n",
       "  <thead>\n",
       "    <tr style=\"text-align: right;\">\n",
       "      <th></th>\n",
       "      <th>0</th>\n",
       "      <th>1</th>\n",
       "      <th>2</th>\n",
       "      <th>3</th>\n",
       "      <th>4</th>\n",
       "      <th>5</th>\n",
       "    </tr>\n",
       "  </thead>\n",
       "  <tbody>\n",
       "    <tr>\n",
       "      <th>0</th>\n",
       "      <td>Wine</td>\n",
       "      <td>Chips</td>\n",
       "      <td>Bread</td>\n",
       "      <td>Butter</td>\n",
       "      <td>Milk</td>\n",
       "      <td>Apple</td>\n",
       "    </tr>\n",
       "    <tr>\n",
       "      <th>1</th>\n",
       "      <td>Wine</td>\n",
       "      <td>NaN</td>\n",
       "      <td>Bread</td>\n",
       "      <td>Butter</td>\n",
       "      <td>Milk</td>\n",
       "      <td>NaN</td>\n",
       "    </tr>\n",
       "    <tr>\n",
       "      <th>2</th>\n",
       "      <td>NaN</td>\n",
       "      <td>NaN</td>\n",
       "      <td>Bread</td>\n",
       "      <td>Butter</td>\n",
       "      <td>Milk</td>\n",
       "      <td>NaN</td>\n",
       "    </tr>\n",
       "    <tr>\n",
       "      <th>3</th>\n",
       "      <td>NaN</td>\n",
       "      <td>Chips</td>\n",
       "      <td>NaN</td>\n",
       "      <td>NaN</td>\n",
       "      <td>NaN</td>\n",
       "      <td>Apple</td>\n",
       "    </tr>\n",
       "    <tr>\n",
       "      <th>4</th>\n",
       "      <td>Wine</td>\n",
       "      <td>Chips</td>\n",
       "      <td>Bread</td>\n",
       "      <td>Butter</td>\n",
       "      <td>Milk</td>\n",
       "      <td>Apple</td>\n",
       "    </tr>\n",
       "    <tr>\n",
       "      <th>5</th>\n",
       "      <td>Wine</td>\n",
       "      <td>Chips</td>\n",
       "      <td>NaN</td>\n",
       "      <td>NaN</td>\n",
       "      <td>Milk</td>\n",
       "      <td>NaN</td>\n",
       "    </tr>\n",
       "    <tr>\n",
       "      <th>6</th>\n",
       "      <td>Wine</td>\n",
       "      <td>Chips</td>\n",
       "      <td>Bread</td>\n",
       "      <td>Butter</td>\n",
       "      <td>NaN</td>\n",
       "      <td>Apple</td>\n",
       "    </tr>\n",
       "    <tr>\n",
       "      <th>7</th>\n",
       "      <td>Wine</td>\n",
       "      <td>Chips</td>\n",
       "      <td>NaN</td>\n",
       "      <td>NaN</td>\n",
       "      <td>Milk</td>\n",
       "      <td>NaN</td>\n",
       "    </tr>\n",
       "    <tr>\n",
       "      <th>8</th>\n",
       "      <td>Wine</td>\n",
       "      <td>NaN</td>\n",
       "      <td>Bread</td>\n",
       "      <td>NaN</td>\n",
       "      <td>NaN</td>\n",
       "      <td>Apple</td>\n",
       "    </tr>\n",
       "    <tr>\n",
       "      <th>9</th>\n",
       "      <td>Wine</td>\n",
       "      <td>NaN</td>\n",
       "      <td>Bread</td>\n",
       "      <td>Butter</td>\n",
       "      <td>Milk</td>\n",
       "      <td>NaN</td>\n",
       "    </tr>\n",
       "    <tr>\n",
       "      <th>10</th>\n",
       "      <td>NaN</td>\n",
       "      <td>Chips</td>\n",
       "      <td>Bread</td>\n",
       "      <td>Butter</td>\n",
       "      <td>NaN</td>\n",
       "      <td>Apple</td>\n",
       "    </tr>\n",
       "    <tr>\n",
       "      <th>11</th>\n",
       "      <td>Wine</td>\n",
       "      <td>NaN</td>\n",
       "      <td>NaN</td>\n",
       "      <td>Butter</td>\n",
       "      <td>Milk</td>\n",
       "      <td>Apple</td>\n",
       "    </tr>\n",
       "    <tr>\n",
       "      <th>12</th>\n",
       "      <td>Wine</td>\n",
       "      <td>Chips</td>\n",
       "      <td>Bread</td>\n",
       "      <td>Butter</td>\n",
       "      <td>Milk</td>\n",
       "      <td>NaN</td>\n",
       "    </tr>\n",
       "    <tr>\n",
       "      <th>13</th>\n",
       "      <td>Wine</td>\n",
       "      <td>NaN</td>\n",
       "      <td>Bread</td>\n",
       "      <td>NaN</td>\n",
       "      <td>Milk</td>\n",
       "      <td>Apple</td>\n",
       "    </tr>\n",
       "    <tr>\n",
       "      <th>14</th>\n",
       "      <td>Wine</td>\n",
       "      <td>NaN</td>\n",
       "      <td>Bread</td>\n",
       "      <td>Butter</td>\n",
       "      <td>Milk</td>\n",
       "      <td>Apple</td>\n",
       "    </tr>\n",
       "    <tr>\n",
       "      <th>15</th>\n",
       "      <td>Wine</td>\n",
       "      <td>Chips</td>\n",
       "      <td>Bread</td>\n",
       "      <td>Butter</td>\n",
       "      <td>Milk</td>\n",
       "      <td>Apple</td>\n",
       "    </tr>\n",
       "    <tr>\n",
       "      <th>16</th>\n",
       "      <td>NaN</td>\n",
       "      <td>Chips</td>\n",
       "      <td>Bread</td>\n",
       "      <td>Butter</td>\n",
       "      <td>Milk</td>\n",
       "      <td>Apple</td>\n",
       "    </tr>\n",
       "    <tr>\n",
       "      <th>17</th>\n",
       "      <td>NaN</td>\n",
       "      <td>Chips</td>\n",
       "      <td>NaN</td>\n",
       "      <td>Butter</td>\n",
       "      <td>Milk</td>\n",
       "      <td>Apple</td>\n",
       "    </tr>\n",
       "    <tr>\n",
       "      <th>18</th>\n",
       "      <td>Wine</td>\n",
       "      <td>Chips</td>\n",
       "      <td>Bread</td>\n",
       "      <td>Butter</td>\n",
       "      <td>Milk</td>\n",
       "      <td>Apple</td>\n",
       "    </tr>\n",
       "    <tr>\n",
       "      <th>19</th>\n",
       "      <td>Wine</td>\n",
       "      <td>NaN</td>\n",
       "      <td>Bread</td>\n",
       "      <td>Butter</td>\n",
       "      <td>Milk</td>\n",
       "      <td>Apple</td>\n",
       "    </tr>\n",
       "    <tr>\n",
       "      <th>20</th>\n",
       "      <td>Wine</td>\n",
       "      <td>Chips</td>\n",
       "      <td>Bread</td>\n",
       "      <td>NaN</td>\n",
       "      <td>Milk</td>\n",
       "      <td>Apple</td>\n",
       "    </tr>\n",
       "    <tr>\n",
       "      <th>21</th>\n",
       "      <td>NaN</td>\n",
       "      <td>Chips</td>\n",
       "      <td>NaN</td>\n",
       "      <td>NaN</td>\n",
       "      <td>NaN</td>\n",
       "      <td>NaN</td>\n",
       "    </tr>\n",
       "  </tbody>\n",
       "</table>\n",
       "</div>"
      ],
      "text/plain": [
       "       0      1      2        3     4      5\n",
       "0   Wine  Chips  Bread  Butter   Milk  Apple\n",
       "1   Wine    NaN  Bread  Butter   Milk    NaN\n",
       "2    NaN    NaN  Bread  Butter   Milk    NaN\n",
       "3    NaN  Chips    NaN      NaN   NaN  Apple\n",
       "4   Wine  Chips  Bread  Butter   Milk  Apple\n",
       "5   Wine  Chips    NaN      NaN  Milk    NaN\n",
       "6   Wine  Chips  Bread  Butter    NaN  Apple\n",
       "7   Wine  Chips    NaN      NaN  Milk    NaN\n",
       "8   Wine    NaN  Bread      NaN   NaN  Apple\n",
       "9   Wine    NaN  Bread  Butter   Milk    NaN\n",
       "10   NaN  Chips  Bread  Butter    NaN  Apple\n",
       "11  Wine    NaN    NaN  Butter   Milk  Apple\n",
       "12  Wine  Chips  Bread  Butter   Milk    NaN\n",
       "13  Wine    NaN  Bread      NaN  Milk  Apple\n",
       "14  Wine    NaN  Bread  Butter   Milk  Apple\n",
       "15  Wine  Chips  Bread  Butter   Milk  Apple\n",
       "16   NaN  Chips  Bread  Butter   Milk  Apple\n",
       "17   NaN  Chips    NaN  Butter   Milk  Apple\n",
       "18  Wine  Chips  Bread  Butter   Milk  Apple\n",
       "19  Wine    NaN  Bread  Butter   Milk  Apple\n",
       "20  Wine  Chips  Bread      NaN  Milk  Apple\n",
       "21   NaN  Chips    NaN      NaN   NaN    NaN"
      ]
     },
     "execution_count": 5,
     "metadata": {},
     "output_type": "execute_result"
    }
   ],
   "source": [
    "store_data"
   ]
  },
  {
   "cell_type": "code",
   "execution_count": 6,
   "metadata": {},
   "outputs": [
    {
     "data": {
      "text/plain": [
       "(22, 6)"
      ]
     },
     "execution_count": 6,
     "metadata": {},
     "output_type": "execute_result"
    }
   ],
   "source": [
    "store_data.shape"
   ]
  },
  {
   "cell_type": "code",
   "execution_count": 7,
   "metadata": {},
   "outputs": [],
   "source": [
    "#convert dataframe into a list of lists\n",
    "records = []\n",
    "for i in range(0,22):\n",
    "    records.append([str(store_data.values[i,j]) for j in range(0,6)])"
   ]
  },
  {
   "cell_type": "code",
   "execution_count": 8,
   "metadata": {},
   "outputs": [],
   "source": [
    "# building the first apriori model\n",
    "association_rules = apriori(records, min_support = 0.50, min_confidence = 0.7, min_lift=1.2, min_length=2)\n",
    "association_results = list(association_rules)"
   ]
  },
  {
   "cell_type": "code",
   "execution_count": 9,
   "metadata": {},
   "outputs": [
    {
     "name": "stdout",
     "output_type": "stream",
     "text": [
      "1\n"
     ]
    }
   ],
   "source": [
    "#printing #rules\n",
    "print(len(association_results))"
   ]
  },
  {
   "cell_type": "code",
   "execution_count": 11,
   "metadata": {},
   "outputs": [
    {
     "name": "stdout",
     "output_type": "stream",
     "text": [
      "[RelationRecord(items=frozenset({'Milk', 'Bread', 'Butter '}), support=0.5, ordered_statistics=[OrderedStatistic(items_base=frozenset({'Butter '}), items_add=frozenset({'Bread', 'Milk'}), confidence=0.7333333333333334, lift=1.241025641025641), OrderedStatistic(items_base=frozenset({'Bread', 'Milk'}), items_add=frozenset({'Butter '}), confidence=0.8461538461538461, lift=1.241025641025641)])]\n"
     ]
    }
   ],
   "source": [
    "#association rule 1 results\n",
    "print(association_results)"
   ]
  },
  {
   "cell_type": "code",
   "execution_count": 28,
   "metadata": {},
   "outputs": [
    {
     "name": "stdout",
     "output_type": "stream",
     "text": [
      "[RelationRecord(items=frozenset({'Wine', 'Bread', 'Apple'}), support=0.45454545454545453, ordered_statistics=[OrderedStatistic(items_base=frozenset({'Wine', 'Apple'}), items_add=frozenset({'Bread'}), confidence=0.9090909090909091, lift=1.25)]), RelationRecord(items=frozenset({'Wine', 'Bread', 'Butter '}), support=0.45454545454545453, ordered_statistics=[OrderedStatistic(items_base=frozenset({'Wine', 'Butter '}), items_add=frozenset({'Bread'}), confidence=0.9090909090909091, lift=1.25)]), RelationRecord(items=frozenset({'Milk', 'Wine', 'Bread', 'Butter '}), support=0.4090909090909091, ordered_statistics=[OrderedStatistic(items_base=frozenset({'Wine', 'Milk', 'Butter '}), items_add=frozenset({'Bread'}), confidence=0.9000000000000001, lift=1.2375)])]\n"
     ]
    }
   ],
   "source": [
    "# second apriori model\n",
    "association_rule2 = apriori(records, min_support = 0.40, min_confidence = 0.9, min_lift=1.2, min_length=2)\n",
    "association_result2 = list(association_rule2)\n",
    "print(association_result2)"
   ]
  },
  {
   "cell_type": "code",
   "execution_count": 30,
   "metadata": {},
   "outputs": [
    {
     "name": "stdout",
     "output_type": "stream",
     "text": [
      "[RelationRecord(items=frozenset({'Chips', 'Wine', 'Bread', 'Apple'}), support=0.2727272727272727, ordered_statistics=[OrderedStatistic(items_base=frozenset({'Chips', 'Wine', 'Apple'}), items_add=frozenset({'Bread'}), confidence=1.0, lift=1.375)]), RelationRecord(items=frozenset({'Chips', 'Wine', 'Bread', 'Butter '}), support=0.2727272727272727, ordered_statistics=[OrderedStatistic(items_base=frozenset({'Chips', 'Wine', 'Butter '}), items_add=frozenset({'Bread'}), confidence=1.0, lift=1.375)]), RelationRecord(items=frozenset({'Bread', 'Apple', 'Chips', 'Wine', 'Butter '}), support=0.22727272727272727, ordered_statistics=[OrderedStatistic(items_base=frozenset({'Chips', 'Wine', 'Apple', 'Butter '}), items_add=frozenset({'Bread'}), confidence=1.0, lift=1.375)]), RelationRecord(items=frozenset({'Bread', 'Apple', 'Chips', 'Wine', 'Milk'}), support=0.22727272727272727, ordered_statistics=[OrderedStatistic(items_base=frozenset({'Chips', 'Wine', 'Milk', 'Apple'}), items_add=frozenset({'Bread'}), confidence=1.0, lift=1.375)]), RelationRecord(items=frozenset({'Bread', 'Chips', 'Wine', 'Butter ', 'Milk'}), support=0.22727272727272727, ordered_statistics=[OrderedStatistic(items_base=frozenset({'Chips', 'Wine', 'Milk', 'Butter '}), items_add=frozenset({'Bread'}), confidence=1.0, lift=1.375)])]\n"
     ]
    }
   ],
   "source": [
    "# third apriori model\n",
    "association_rule3 = apriori(records, min_support = 0.20, min_confidence = 1, min_lift=1.2, min_length=2)\n",
    "association_result3 = list(association_rule3)\n",
    "print(association_result3)"
   ]
  },
  {
   "cell_type": "markdown",
   "metadata": {},
   "source": [
    "# FP GROWTH"
   ]
  },
  {
   "cell_type": "code",
   "execution_count": 8,
   "metadata": {},
   "outputs": [],
   "source": [
    "import pyfpgrowth"
   ]
  },
  {
   "cell_type": "code",
   "execution_count": 9,
   "metadata": {},
   "outputs": [],
   "source": [
    "transactions = [[1, 2, 5],\n",
    "                [2, 4],\n",
    "                [2, 3],\n",
    "                [1, 2, 4],\n",
    "                [1, 3],\n",
    "                [2, 3],\n",
    "                [1, 3],\n",
    "                [1, 2, 3, 5],\n",
    "                [1, 2, 3]]"
   ]
  },
  {
   "cell_type": "code",
   "execution_count": 10,
   "metadata": {},
   "outputs": [],
   "source": [
    "patterns = pyfpgrowth.find_frequent_patterns(transactions, 2)"
   ]
  },
  {
   "cell_type": "code",
   "execution_count": 11,
   "metadata": {},
   "outputs": [],
   "source": [
    "rules = pyfpgrowth.generate_association_rules(patterns, 0.7)"
   ]
  },
  {
   "cell_type": "code",
   "execution_count": 12,
   "metadata": {},
   "outputs": [
    {
     "data": {
      "text/plain": [
       "{(5,): 2,\n",
       " (1, 5): 2,\n",
       " (2, 5): 2,\n",
       " (1, 2, 5): 2,\n",
       " (4,): 2,\n",
       " (2, 4): 2,\n",
       " (1,): 6,\n",
       " (1, 2): 4,\n",
       " (2, 3): 4,\n",
       " (1, 2, 3): 2,\n",
       " (1, 3): 4,\n",
       " (2,): 7}"
      ]
     },
     "execution_count": 12,
     "metadata": {},
     "output_type": "execute_result"
    }
   ],
   "source": [
    "patterns"
   ]
  },
  {
   "cell_type": "code",
   "execution_count": 15,
   "metadata": {},
   "outputs": [
    {
     "data": {
      "text/plain": [
       "{(5,): ((1, 2), 1.0),\n",
       " (1, 5): ((2,), 1.0),\n",
       " (2, 5): ((1,), 1.0),\n",
       " (4,): ((2,), 1.0)}"
      ]
     },
     "execution_count": 15,
     "metadata": {},
     "output_type": "execute_result"
    }
   ],
   "source": [
    "rules"
   ]
  },
  {
   "cell_type": "code",
   "execution_count": 17,
   "metadata": {},
   "outputs": [
    {
     "name": "stdout",
     "output_type": "stream",
     "text": [
      "{(1,): 6, (1, 2): 4, (2, 3): 4, (1, 3): 4, (2,): 7}\n",
      "{(1,): ((3,), 0.6666666666666666)}\n"
     ]
    }
   ],
   "source": [
    "pattern2 = pyfpgrowth.find_frequent_patterns(transactions, 3)\n",
    "rule2 = pyfpgrowth.generate_association_rules(pattern2, 0.6)\n",
    "print(pattern2)\n",
    "print(rule2)"
   ]
  },
  {
   "cell_type": "code",
   "execution_count": 21,
   "metadata": {},
   "outputs": [],
   "source": [
    "#!pip install fpgrowth_py"
   ]
  },
  {
   "cell_type": "code",
   "execution_count": 26,
   "metadata": {},
   "outputs": [
    {
     "name": "stdout",
     "output_type": "stream",
     "text": [
      "Frequent Item Sets:  [{'eggs'}, {'eggs', 'bacon'}, {'soup'}, {'soup', 'bacon'}, {'bacon'}]\n",
      "Rule 1:  [{'eggs'}, {'bacon'}, 1.0]\n",
      "Rule 2:  [{'bacon'}, {'eggs'}, 0.6666666666666666]\n",
      "Rule 3:  [{'soup'}, {'bacon'}, 1.0]\n",
      "Rule 4:  [{'bacon'}, {'soup'}, 0.6666666666666666]\n"
     ]
    }
   ],
   "source": [
    "from fpgrowth_py import fpgrowth\n",
    "itemSetList = [['eggs', 'bacon', 'soup'],\n",
    "                ['eggs', 'bacon', 'apple'],\n",
    "                ['soup', 'bacon', 'banana']]\n",
    "freqItemSet, rules = fpgrowth(itemSetList, minSupRatio=0.5, minConf=0.5)\n",
    "print('Frequent Item Sets: ',freqItemSet)\n",
    "for i in range(len(rules)):\n",
    "    print(f'Rule {i+1}: ',rules[i])  "
   ]
  },
  {
   "cell_type": "code",
   "execution_count": null,
   "metadata": {},
   "outputs": [],
   "source": []
  }
 ],
 "metadata": {
  "kernelspec": {
   "display_name": "Python 3",
   "language": "python",
   "name": "python3"
  },
  "language_info": {
   "codemirror_mode": {
    "name": "ipython",
    "version": 3
   },
   "file_extension": ".py",
   "mimetype": "text/x-python",
   "name": "python",
   "nbconvert_exporter": "python",
   "pygments_lexer": "ipython3",
   "version": "3.7.4"
  }
 },
 "nbformat": 4,
 "nbformat_minor": 4
}
